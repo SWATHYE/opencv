{
 "cells": [
  {
   "cell_type": "markdown",
   "id": "c9eda3a4-b8ba-44dc-a9b6-6b09c6e11836",
   "metadata": {},
   "source": [
    "## OCR which stands for Optical Character Recognition is a computer vision technique used to identify the different types of handwritten digits that are used in common mathematics."
   ]
  },
  {
   "cell_type": "code",
   "execution_count": 34,
   "id": "8dae488d-cafd-47bf-ab98-ddbf5be100de",
   "metadata": {},
   "outputs": [
    {
     "name": "stdout",
     "output_type": "stream",
     "text": [
      "Accuracy: 91.64%\n"
     ]
    }
   ],
   "source": [
    "import numpy as np \n",
    "import cv2 \n",
    "\n",
    "# Read the image \n",
    "image = cv2.imread(r\"C:\\Users\\swath\\Downloads\\swathy\\digits1.png\")\n",
    "\n",
    "# Check if the image was loaded correctly\n",
    "if image is None:\n",
    "    print(\"Error: Unable to load image. Check the file path.\")\n",
    "    exit()\n",
    "\n",
    "# Gray scale conversion \n",
    "gray_img = cv2.cvtColor(image, cv2.COLOR_BGR2GRAY)\n",
    "\n",
    "# Divide the image into 5000 small images of size 20x20\n",
    "divisions = [np.hsplit(row, 100) for row in np.vsplit(gray_img, 50)]\n",
    "\n",
    "# Convert into Numpy array of size (50, 100, 20, 20)\n",
    "NP_array = np.array(divisions)\n",
    "\n",
    "# Preparing train_data and test_data\n",
    "# Size will be (2500, 400) where 400 = 20x20\n",
    "train_data = NP_array[:, :50].reshape(-1, 400).astype(np.float32)\n",
    "test_data = NP_array[:, 50:100].reshape(-1, 400).astype(np.float32)\n",
    "\n",
    "# Create 10 different labels for each type of digit\n",
    "k = np.arange(10)\n",
    "train_labels = np.repeat(k, 250)[:, np.newaxis]\n",
    "test_labels = np.repeat(k, 250)[:, np.newaxis]\n",
    "\n",
    "# Initiate kNN classifier\n",
    "knn = cv2.ml.KNearest_create()\n",
    "\n",
    "# Perform training of data\n",
    "knn.train(train_data, cv2.ml.ROW_SAMPLE, train_labels)\n",
    "\n",
    "# Obtain the output from the classifier by specifying the number of neighbors\n",
    "ret, output, neighbours, distance = knn.findNearest(test_data, k=3)\n",
    "\n",
    "# Check if the return value is valid\n",
    "if ret is None:\n",
    "    print(\"Error: The kNN classifier did not return a valid result.\")\n",
    "    exit()\n",
    "\n",
    "# Check the performance and accuracy of the classifier\n",
    "# Compare the output with test_labels to find out how many are correct\n",
    "matched = output == test_labels\n",
    "correct_OP = np.count_nonzero(matched)\n",
    "\n",
    "# Calculate the accuracy\n",
    "accuracy = (correct_OP * 100.0) / output.size\n",
    "\n",
    "# Display accuracy\n",
    "print(f\"Accuracy: {accuracy}%\")\n"
   ]
  },
  {
   "cell_type": "code",
   "execution_count": null,
   "id": "dbeea9b0-80e1-4c73-afa5-4923eee7f077",
   "metadata": {},
   "outputs": [],
   "source": []
  }
 ],
 "metadata": {
  "kernelspec": {
   "display_name": "Python 3 (ipykernel)",
   "language": "python",
   "name": "python3"
  },
  "language_info": {
   "codemirror_mode": {
    "name": "ipython",
    "version": 3
   },
   "file_extension": ".py",
   "mimetype": "text/x-python",
   "name": "python",
   "nbconvert_exporter": "python",
   "pygments_lexer": "ipython3",
   "version": "3.11.7"
  }
 },
 "nbformat": 4,
 "nbformat_minor": 5
}
